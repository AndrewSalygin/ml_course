{
 "cells": [
  {
   "cell_type": "code",
   "execution_count": 143,
   "id": "8b7e3654",
   "metadata": {},
   "outputs": [],
   "source": [
    "import csv\n",
    "import json\n",
    "\n",
    "# Чтение данных из json-файла\n",
    "with open('resources/csv&json/constellations.json', 'r', encoding='utf-8') as json_file:\n",
    "    data = json.load(json_file)[\"constellations\"]\n",
    "\n",
    "fields = ['star_name', 'brightness', 'constellation_latin', 'constellation_abbreviation', 'constellation_area', 'neighboring_constellations']\n",
    "\n",
    "with open('resources/csv&json/constellations.csv', 'w', encoding='utf-8', newline='') as csv_file:\n",
    "    writer = csv.DictWriter(csv_file, fieldnames=fields, delimiter=' ')\n",
    "    writer.writeheader()\n",
    "    \n",
    "    # Общий список всех звезд\n",
    "    all_stars = []\n",
    "\n",
    "    # Заполнение общего списка звезд и запись данных о созвездиях в csv\n",
    "    for constellation in data:\n",
    "        neighboring_constellations = ', '.join([neighbor.strip(\"\\\"['\").strip(\"']\") for neighbor in constellation['neighboring_constellations']])\n",
    "        \n",
    "        for star in constellation['brightest_stars']:\n",
    "            all_stars.append({\n",
    "                'star_name': star['name'],\n",
    "                'brightness': star['brightness'],\n",
    "                'constellation_latin': constellation['latin_name'],\n",
    "                'constellation_abbreviation': constellation['abbreviation'],\n",
    "                'constellation_area': constellation['area'],\n",
    "                'neighboring_constellations': neighboring_constellations\n",
    "            })\n",
    "\n",
    "    # Сортировка всех звезд по имени перед записью (Дополнительно 2)\n",
    "    sorted_all_stars = sorted(all_stars, key=lambda x: x['star_name'])\n",
    "\n",
    "    for star in sorted_all_stars:\n",
    "        writer.writerow(star)"
   ]
  },
  {
   "cell_type": "markdown",
   "id": "c6bb859f",
   "metadata": {},
   "source": [
    "Дополнительно 1:"
   ]
  },
  {
   "cell_type": "code",
   "execution_count": 144,
   "id": "2218b6de",
   "metadata": {},
   "outputs": [],
   "source": [
    "fields = ['star_name', 'brightness', 'constellation_latin', 'constellation_abbreviation', 'constellation_area',\n",
    "          'neighboring_constellations']\n",
    "constellations = {}\n",
    "\n",
    "# Чтение данных из csv-файла\n",
    "with open('resources/csv&json/constellations.csv', 'r', encoding=\"utf-8\") as csv_file:\n",
    "    reader = csv.DictReader(csv_file, delimiter=' ')\n",
    "    for row in reader:\n",
    "        neighboring_constellations = row['neighboring_constellations'].split(', ')\n",
    "        constellation_key = row['constellation_abbreviation']\n",
    "        star_data = {\n",
    "            'name': row['star_name'],\n",
    "            'brightness': float(row['brightness'])\n",
    "        }\n",
    "        constellation_data = constellations.get(constellation_key, {})\n",
    "        constellation_data.update({\n",
    "            'latin_name': row['constellation_latin'],\n",
    "            'abbreviation': row['constellation_abbreviation'],\n",
    "            'area': float(row['constellation_area']),\n",
    "            'brightest_stars': constellation_data.get('brightest_stars', []) + [star_data],\n",
    "            'neighboring_constellations': neighboring_constellations\n",
    "        })\n",
    "        constellations[constellation_key] = constellation_data\n",
    "\n",
    "constellations_json = {\"constellations\": list(constellations.values())}\n",
    "\n",
    "with open('resources/csv&json/constellations_reconstructed.json', 'w', encoding=\"utf-8\") as json_file:\n",
    "    json.dump(constellations_json, json_file, indent=2)"
   ]
  }
 ],
 "metadata": {
  "kernelspec": {
   "display_name": "Python 3 (ipykernel)",
   "language": "python",
   "name": "python3"
  },
  "language_info": {
   "codemirror_mode": {
    "name": "ipython",
    "version": 3
   },
   "file_extension": ".py",
   "mimetype": "text/x-python",
   "name": "python",
   "nbconvert_exporter": "python",
   "pygments_lexer": "ipython3",
   "version": "3.10.9"
  }
 },
 "nbformat": 4,
 "nbformat_minor": 5
}
