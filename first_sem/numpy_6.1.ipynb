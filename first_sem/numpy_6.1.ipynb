{
 "cells": [
  {
   "cell_type": "markdown",
   "id": "70f8fb03",
   "metadata": {},
   "source": [
    "**Первое задание:** Сгенерировать матрицу размером 6 × 5, заполненную целыми числами."
   ]
  },
  {
   "cell_type": "code",
   "execution_count": 104,
   "id": "6c5be454",
   "metadata": {},
   "outputs": [
    {
     "name": "stdout",
     "output_type": "stream",
     "text": [
      "[[ 39  39 -30  -2  12]\n",
      " [ 19  38 -36 -25   6]\n",
      " [ 15 -14  17   3  37]\n",
      " [-17 -23  34  -4 -20]\n",
      " [-40 -19  14 -22  25]\n",
      " [-35 -14  10 -20  30]]\n"
     ]
    }
   ],
   "source": [
    "import random\n",
    "import numpy as np\n",
    "\n",
    "\n",
    "def generate_matrix(n, m, a, b):\n",
    "    return np.random.randint(a, b, size=(n, m))\n",
    "\n",
    "\n",
    "result_matrix = generate_matrix(6, 5, -41, 41)\n",
    "print(result_matrix)"
   ]
  },
  {
   "cell_type": "markdown",
   "id": "513ee33e",
   "metadata": {},
   "source": [
    "**Второе задание:** Вывести на экран элемент с индексами [4, 2]."
   ]
  },
  {
   "cell_type": "code",
   "execution_count": 105,
   "id": "679a39de",
   "metadata": {},
   "outputs": [
    {
     "name": "stdout",
     "output_type": "stream",
     "text": [
      "14\n"
     ]
    }
   ],
   "source": [
    "print(result_matrix[4, 2])"
   ]
  },
  {
   "cell_type": "markdown",
   "id": "ebbf2a85",
   "metadata": {},
   "source": [
    "**Третье задание:** Вывести на экран третью строку матрицы."
   ]
  },
  {
   "cell_type": "code",
   "execution_count": 106,
   "id": "c31b0b93",
   "metadata": {},
   "outputs": [
    {
     "name": "stdout",
     "output_type": "stream",
     "text": [
      "[ 15 -14  17   3  37]\n"
     ]
    }
   ],
   "source": [
    "print(result_matrix[2])"
   ]
  },
  {
   "cell_type": "markdown",
   "id": "3fdc5b72",
   "metadata": {},
   "source": [
    "**Четвертое задание:** Вывести на экран четвертую строку матрицы в обратном порядке."
   ]
  },
  {
   "cell_type": "code",
   "execution_count": 107,
   "id": "c771d99d",
   "metadata": {},
   "outputs": [
    {
     "name": "stdout",
     "output_type": "stream",
     "text": [
      "[-20  -4  34 -23 -17]\n"
     ]
    }
   ],
   "source": [
    "print(result_matrix[3][::-1])"
   ]
  },
  {
   "cell_type": "markdown",
   "id": "1abe1971",
   "metadata": {},
   "source": [
    "**Пятое задание:** Изменить форму матрицы с 6 × 5 на 15 × 2."
   ]
  },
  {
   "cell_type": "code",
   "execution_count": 108,
   "id": "fd36b3a0",
   "metadata": {},
   "outputs": [
    {
     "name": "stdout",
     "output_type": "stream",
     "text": [
      "[[ 39  39]\n",
      " [-30  -2]\n",
      " [ 12  19]\n",
      " [ 38 -36]\n",
      " [-25   6]\n",
      " [ 15 -14]\n",
      " [ 17   3]\n",
      " [ 37 -17]\n",
      " [-23  34]\n",
      " [ -4 -20]\n",
      " [-40 -19]\n",
      " [ 14 -22]\n",
      " [ 25 -35]\n",
      " [-14  10]\n",
      " [-20  30]]\n"
     ]
    }
   ],
   "source": [
    "print(result_matrix.reshape((15, 2)))"
   ]
  },
  {
   "cell_type": "markdown",
   "id": "c579daac",
   "metadata": {},
   "source": [
    "**Шестое задание:** Прибавить к каждому элементу матрицы заданное число."
   ]
  },
  {
   "cell_type": "code",
   "execution_count": 109,
   "id": "c57af8ba",
   "metadata": {},
   "outputs": [
    {
     "name": "stdout",
     "output_type": "stream",
     "text": [
      "[[139 139  70  98 112]\n",
      " [119 138  64  75 106]\n",
      " [115  86 117 103 137]\n",
      " [ 83  77 134  96  80]\n",
      " [ 60  81 114  78 125]\n",
      " [ 65  86 110  80 130]]\n"
     ]
    }
   ],
   "source": [
    "number = 100\n",
    "print(result_matrix + number)"
   ]
  },
  {
   "cell_type": "markdown",
   "id": "711c87db",
   "metadata": {},
   "source": [
    "**Седьмое задание:** Найти максимум в каждой строке."
   ]
  },
  {
   "cell_type": "code",
   "execution_count": 110,
   "id": "61d2645a",
   "metadata": {},
   "outputs": [
    {
     "data": {
      "text/plain": [
       "array([[ 39,  39, -30,  -2,  12],\n",
       "       [ 19,  38, -36, -25,   6],\n",
       "       [ 15, -14,  17,   3,  37],\n",
       "       [-17, -23,  34,  -4, -20],\n",
       "       [-40, -19,  14, -22,  25],\n",
       "       [-35, -14,  10, -20,  30]])"
      ]
     },
     "execution_count": 110,
     "metadata": {},
     "output_type": "execute_result"
    }
   ],
   "source": [
    "result_matrix"
   ]
  },
  {
   "cell_type": "code",
   "execution_count": 111,
   "id": "0cce048b",
   "metadata": {
    "scrolled": true
   },
   "outputs": [
    {
     "name": "stdout",
     "output_type": "stream",
     "text": [
      "[39 38 37 34 25 30]\n"
     ]
    }
   ],
   "source": [
    "print(np.max(result_matrix, axis=1))"
   ]
  },
  {
   "cell_type": "markdown",
   "id": "214c3547",
   "metadata": {},
   "source": [
    "**Восьмое задание:** Найти минимальный элемент в первом столбце."
   ]
  },
  {
   "cell_type": "code",
   "execution_count": 112,
   "id": "0aababd0",
   "metadata": {},
   "outputs": [
    {
     "name": "stdout",
     "output_type": "stream",
     "text": [
      "-40\n"
     ]
    }
   ],
   "source": [
    "# Выбирает все строки `:`, из первого стобца \n",
    "print(np.min(result_matrix[:, 0]))"
   ]
  },
  {
   "cell_type": "markdown",
   "id": "900e02b8",
   "metadata": {},
   "source": [
    "**Девятое задание:** Найти максимальный элемент в векторе 𝑥 среди элементов, перед которыми стоит нулевой."
   ]
  },
  {
   "cell_type": "code",
   "execution_count": 122,
   "id": "73d5ff38",
   "metadata": {},
   "outputs": [
    {
     "name": "stdout",
     "output_type": "stream",
     "text": [
      "[[-10]\n",
      " [  0]\n",
      " [ 18]\n",
      " [-30]\n",
      " [-31]\n",
      " [  0]\n",
      " [  4]\n",
      " [  0]\n",
      " [  0]\n",
      " [  0]]\n",
      "18\n"
     ]
    }
   ],
   "source": [
    "# Подготовка данных\n",
    "x = generate_matrix(10, 1, -41, 41)\n",
    "x[1] = 0\n",
    "x[5] = 0\n",
    "x[7] = 0\n",
    "x[8] = 0\n",
    "x[9] = 0\n",
    "\n",
    "zero_indices = np.where(x == 0)[0]\n",
    "# Убираем индекс, если он 0 и является последним\n",
    "zero_indices = zero_indices[zero_indices < len(x) - 1]\n",
    "elements_after_zero = x[zero_indices + 1]\n",
    "\n",
    "print(x)\n",
    "print(np.max(elements_after_zero))"
   ]
  },
  {
   "cell_type": "markdown",
   "id": "0862eafa",
   "metadata": {},
   "source": [
    "**Десятое задание:** Подсчитать произведение ненулевых элементов на диагонали прямоугольной матрицы."
   ]
  },
  {
   "cell_type": "code",
   "execution_count": 123,
   "id": "4d851e13",
   "metadata": {},
   "outputs": [
    {
     "name": "stdout",
     "output_type": "stream",
     "text": [
      "matrix:\n",
      "[[-25 -19  28  22]\n",
      " [ 27  29  -9 -20]]\n",
      "diagonal_elements: [-25  29]\n",
      "Произведение: -725\n"
     ]
    }
   ],
   "source": [
    "matrix = generate_matrix(2, 4, -41, 41)\n",
    "diagonal_elements = np.diagonal(matrix)\n",
    "not_zero_diagonal_elements = diagonal_elements[diagonal_elements != 0]\n",
    "\n",
    "print(\"matrix:\")\n",
    "print(matrix)\n",
    "print(\"diagonal_elements:\", diagonal_elements)\n",
    "print(\"Произведение:\", np.prod(not_zero_diagonal_elements))"
   ]
  }
 ],
 "metadata": {
  "kernelspec": {
   "display_name": "Python 3 (ipykernel)",
   "language": "python",
   "name": "python3"
  },
  "language_info": {
   "codemirror_mode": {
    "name": "ipython",
    "version": 3
   },
   "file_extension": ".py",
   "mimetype": "text/x-python",
   "name": "python",
   "nbconvert_exporter": "python",
   "pygments_lexer": "ipython3",
   "version": "3.10.9"
  }
 },
 "nbformat": 4,
 "nbformat_minor": 5
}
