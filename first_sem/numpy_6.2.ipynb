{
 "cells": [
  {
   "cell_type": "markdown",
   "id": "7b0a8a82",
   "metadata": {},
   "source": [
    "**27.** Выполнить обработку элементов прямоугольной матрицы 𝐴, имеющей 𝑛 строк и 𝑚 столбцов. Найти сумму элементов всей матрицы. Определить, какую долю в этой сумме составляет сумма элементов каждой строки. Результат оформить в виде матрицы из строк и столбцов."
   ]
  },
  {
   "cell_type": "code",
   "execution_count": 34,
   "id": "d7bf7ef8",
   "metadata": {},
   "outputs": [
    {
     "name": "stdout",
     "output_type": "stream",
     "text": [
      "[[3 4 2]\n",
      " [1 2 2]\n",
      " [2 2 3]\n",
      " [4 1 3]]\n"
     ]
    }
   ],
   "source": [
    "import random\n",
    "import numpy as np\n",
    "\n",
    "\n",
    "def generate_matrix(n, m, a, b):\n",
    "    return np.random.randint(a, b, size=(n, m))\n",
    "\n",
    "\n",
    "matrix = generate_matrix(4, 3, 1, 5)\n",
    "print(matrix)"
   ]
  },
  {
   "cell_type": "code",
   "execution_count": 35,
   "id": "e21ee8c1",
   "metadata": {},
   "outputs": [
    {
     "name": "stdout",
     "output_type": "stream",
     "text": [
      "Общая сумма элементов: 33\n",
      "Сумма по каждой строке: [9 5 7 8]\n",
      "Результаты деления каждой суммы по строкам на общую сумму:\n",
      "0 строка занимает долю: 0.273\n",
      "1 строка занимает долю: 0.152\n",
      "2 строка занимает долю: 0.212\n",
      "3 строка занимает долю: 0.242\n"
     ]
    }
   ],
   "source": [
    "all_elements_sum = np.sum(matrix)\n",
    "row_sums = np.sum(matrix, axis=1)\n",
    "\n",
    "print(\"Общая сумма элементов:\", elements_sum)\n",
    "print(\"Сумма по каждой строке:\", row_sums)\n",
    "\n",
    "print(\"Результаты деления каждой суммы по строкам на общую сумму:\")\n",
    "for index, ratio in enumerate(row_sums / elements_sum):\n",
    "    print(f\"{index} строка занимает долю: {ratio:.3f}\")"
   ]
  }
 ],
 "metadata": {
  "kernelspec": {
   "display_name": "Python 3 (ipykernel)",
   "language": "python",
   "name": "python3"
  },
  "language_info": {
   "codemirror_mode": {
    "name": "ipython",
    "version": 3
   },
   "file_extension": ".py",
   "mimetype": "text/x-python",
   "name": "python",
   "nbconvert_exporter": "python",
   "pygments_lexer": "ipython3",
   "version": "3.10.9"
  }
 },
 "nbformat": 4,
 "nbformat_minor": 5
}
