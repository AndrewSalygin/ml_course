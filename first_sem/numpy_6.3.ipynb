{
 "cells": [
  {
   "cell_type": "markdown",
   "id": "16e1e8b4",
   "metadata": {},
   "source": [
    "**27.** Дан вектор 𝑥 и матрица 𝐴. Умножить каждый четный столбец матрицы 𝐴 на вектор 𝑥. Результат записать в новую матрицу и умножить ее на второй элемент вектора х."
   ]
  },
  {
   "cell_type": "code",
   "execution_count": 157,
   "id": "95b320c7",
   "metadata": {},
   "outputs": [
    {
     "name": "stdout",
     "output_type": "stream",
     "text": [
      "[[3]\n",
      " [4]\n",
      " [3]]\n",
      "[[4 1 1 1 3 3]\n",
      " [1 4 1 3 2 3]\n",
      " [2 1 3 2 1 2]]\n"
     ]
    }
   ],
   "source": [
    "import random\n",
    "import numpy as np\n",
    "\n",
    "\n",
    "def generate_matrix(n, m, a, b):\n",
    "    return np.random.randint(a, b, size=(n, m))\n",
    "\n",
    "\n",
    "matrix = generate_matrix(3, 6, 1, 5)\n",
    "x = generate_matrix(3, 1, 1, 5)\n",
    "print(x)\n",
    "print(matrix)"
   ]
  },
  {
   "cell_type": "code",
   "execution_count": 158,
   "id": "b8cfed58",
   "metadata": {},
   "outputs": [
    {
     "data": {
      "text/plain": [
       "array([[16, 12,  4, 12, 12, 36],\n",
       "       [ 4, 64,  4, 48,  8, 48],\n",
       "       [ 8, 12, 12, 24,  4, 24]])"
      ]
     },
     "execution_count": 158,
     "metadata": {},
     "output_type": "execute_result"
    }
   ],
   "source": [
    "new_matrix = matrix \n",
    "new_matrix[::, 1::2] = matrix[::, 1::2] * x\n",
    "new_matrix * x[1]"
   ]
  }
 ],
 "metadata": {
  "kernelspec": {
   "display_name": "Python 3 (ipykernel)",
   "language": "python",
   "name": "python3"
  },
  "language_info": {
   "codemirror_mode": {
    "name": "ipython",
    "version": 3
   },
   "file_extension": ".py",
   "mimetype": "text/x-python",
   "name": "python",
   "nbconvert_exporter": "python",
   "pygments_lexer": "ipython3",
   "version": "3.10.9"
  }
 },
 "nbformat": 4,
 "nbformat_minor": 5
}
