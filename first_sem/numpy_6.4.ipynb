{
 "cells": [
  {
   "cell_type": "code",
   "execution_count": 1,
   "id": "46c9c8b5",
   "metadata": {},
   "outputs": [
    {
     "name": "stdout",
     "output_type": "stream",
     "text": [
      "[['W' 'O' 'S']\n",
      " ['E' 'G' 'R']\n",
      " ['D' 'I' 'N']]\n"
     ]
    }
   ],
   "source": [
    "import random\n",
    "import string\n",
    "import numpy as np\n",
    "\n",
    "\n",
    "def generate_matrix(n, m):\n",
    "    return np.random.choice(list(string.ascii_uppercase), size=(n, m))\n",
    "\n",
    "\n",
    "matrix = generate_matrix(3, 3)\n",
    "print(matrix)"
   ]
  },
  {
   "cell_type": "code",
   "execution_count": 2,
   "id": "f5bb5371",
   "metadata": {},
   "outputs": [],
   "source": [
    "while matrix.shape[0] < 192:\n",
    "    matrix = np.concatenate((matrix, np.fliplr(matrix)), axis=1)\n",
    "    matrix = np.concatenate((matrix, np.flipud(matrix)))"
   ]
  },
  {
   "cell_type": "code",
   "execution_count": 3,
   "id": "2df9c528",
   "metadata": {},
   "outputs": [
    {
     "name": "stdout",
     "output_type": "stream",
     "text": [
      "21 1\n",
      "I\n"
     ]
    }
   ],
   "source": [
    "x, y = map(int, input().split())\n",
    "\n",
    "if not (0 <= x < 192):\n",
    "    print(\"x не подходит по условию\")\n",
    "elif not (0 <= y < 192):\n",
    "    print(\"y не подходит по условию\")\n",
    "else:\n",
    "    print(matrix[x, y])"
   ]
  }
 ],
 "metadata": {
  "kernelspec": {
   "display_name": "Python 3 (ipykernel)",
   "language": "python",
   "name": "python3"
  },
  "language_info": {
   "codemirror_mode": {
    "name": "ipython",
    "version": 3
   },
   "file_extension": ".py",
   "mimetype": "text/x-python",
   "name": "python",
   "nbconvert_exporter": "python",
   "pygments_lexer": "ipython3",
   "version": "3.10.9"
  }
 },
 "nbformat": 4,
 "nbformat_minor": 5
}
