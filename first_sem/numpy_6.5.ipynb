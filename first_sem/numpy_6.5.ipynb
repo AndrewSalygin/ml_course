{
 "cells": [
  {
   "cell_type": "markdown",
   "id": "8c9956b0",
   "metadata": {},
   "source": [
    "**27.** Вычислить произведение элементов матрицы."
   ]
  },
  {
   "cell_type": "code",
   "execution_count": 22,
   "id": "74fec486",
   "metadata": {},
   "outputs": [],
   "source": [
    "import timeit\n",
    "import numpy as np\n",
    "from math import prod\n",
    "\n",
    "def matrix_prod1(matrix):\n",
    "    product = 1\n",
    "    for row in matrix:\n",
    "        for element in row:\n",
    "            product *= element\n",
    "    return product\n",
    "\n",
    "def matrix_prod2(matrix):\n",
    "    return prod(element for row in matrix for element in row)"
   ]
  },
  {
   "cell_type": "code",
   "execution_count": 53,
   "id": "2394083d",
   "metadata": {},
   "outputs": [
    {
     "name": "stdout",
     "output_type": "stream",
     "text": [
      "10x10\n",
      "5.27 µs ± 199 ns per loop (mean ± std. dev. of 7 runs, 100,000 loops each)\n",
      "13.2 µs ± 615 ns per loop (mean ± std. dev. of 7 runs, 100,000 loops each)\n",
      "17.8 µs ± 1.21 µs per loop (mean ± std. dev. of 7 runs, 100,000 loops each)\n",
      "100x100\n",
      "20 µs ± 2.8 µs per loop (mean ± std. dev. of 7 runs, 100,000 loops each)\n",
      "886 µs ± 57 µs per loop (mean ± std. dev. of 7 runs, 1,000 loops each)\n",
      "977 µs ± 36.7 µs per loop (mean ± std. dev. of 7 runs, 1,000 loops each)\n",
      "500x500\n",
      "322 µs ± 11.3 µs per loop (mean ± std. dev. of 7 runs, 1,000 loops each)\n",
      "19.1 ms ± 4.97 ms per loop (mean ± std. dev. of 7 runs, 100 loops each)\n",
      "29.8 ms ± 5.93 ms per loop (mean ± std. dev. of 7 runs, 10 loops each)\n",
      "1000x1000\n",
      "1.55 ms ± 155 µs per loop (mean ± std. dev. of 7 runs, 100 loops each)\n",
      "69.4 ms ± 5.35 ms per loop (mean ± std. dev. of 7 runs, 10 loops each)\n",
      "99.9 ms ± 8.98 ms per loop (mean ± std. dev. of 7 runs, 10 loops each)\n"
     ]
    }
   ],
   "source": [
    "dimensions = [10, 100, 500, 1000]\n",
    "# в секундах\n",
    "target_time = 0.001\n",
    "for d in dimensions:\n",
    "    matrix_for_numpy = np.random.randint(-1000, 1000, size=(d, d))\n",
    "    matrix = matrix_for_numpy.tolist()\n",
    "    print(f\"{d}x{d}\")\n",
    "    %timeit np.prod(matrix_for_numpy)\n",
    "    %timeit matrix_prod1(matrix)\n",
    "    %timeit matrix_prod2(matrix)\n",
    "#     print(timeit.timeit(\"np.prod(matrix_for_numpy)\", number=100000, globals=globals()))\n",
    "#     print(timeit.timeit(\"matrix_prod1(matrix)\", number=100000, globals=globals()))\n",
    "#     print(timeit.timeit(\"matrix_prod2(matrix)\", number=100000, globals=globals()))"
   ]
  }
 ],
 "metadata": {
  "kernelspec": {
   "display_name": "Python 3 (ipykernel)",
   "language": "python",
   "name": "python3"
  },
  "language_info": {
   "codemirror_mode": {
    "name": "ipython",
    "version": 3
   },
   "file_extension": ".py",
   "mimetype": "text/x-python",
   "name": "python",
   "nbconvert_exporter": "python",
   "pygments_lexer": "ipython3",
   "version": "3.10.9"
  }
 },
 "nbformat": 4,
 "nbformat_minor": 5
}
